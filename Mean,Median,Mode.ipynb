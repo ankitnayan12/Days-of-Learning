{
 "cells": [
  {
   "cell_type": "code",
   "execution_count": null,
   "metadata": {},
   "outputs": [],
   "source": [
    "# Enter your code here. Read input from STDIN. Print output to STDOUT\n",
    "import numpy as np\n",
    "from scipy import stats\n",
    "\n",
    "#to take input\n",
    "size = int(input())\n",
    "numbers = list(map(int, input().split()))\n",
    "\n",
    "print(np.mean(numbers))\n",
    "print(np.median(numbers))\n",
    "print(int(stats.mode(numbers)[0]))"
   ]
  },
  {
   "cell_type": "markdown",
   "metadata": {},
   "source": [
    "input() \n",
    "This is used to fetch input from the user. In this case. We are expecting the user to provide a list of integers. How do I know? Look next.\n",
    "\n",
    "input().strip() \n",
    "This will eliminate trailing spaces from the user input, if they are there. Why is it required? Because some users will do that and that might break your program.\n",
    "\n",
    "Remember that input() will cast the input as string. \n",
    "So, now we have a string of integers like so: “1 2 4 42”\n",
    "\n",
    "input.strip().split() \n",
    "split() is used to create a Python list out of a string. \n",
    "If no delimiter is given, this breaks the string by spaces. \n",
    "So, now we have: [“1”, “2”, “4”, “42”]\n",
    "\n",
    "map(int, input().strip().split()) \n",
    "map() takes two arguments. The first one is the method to apply, \n",
    "the second one is the data to apply it to. By this understanding, \n",
    "we can see this is doing nothing but typecasting every element of the list to an integer value. Since map returns the data type it was applied to, the list() method applied over map() is redundant. So now we have covered the following:\n",
    "# map() takes two arguments: A function and a list. In this case the function is int, and the list is the one from above. It executes the function once on each thing in the list, and returns the result. In this casse the function is int, which converts its argument to an integer (a whole number).\n",
    "\n",
    "list(map(int, input().strip().split())) \n",
    "And we have: [1, 2, 4, 42]\n",
    "\n",
    "Note the missing quotes. This means the elements are now all int.\n",
    "\n",
    "# list() converts its argument to a list.This is to work around a difference between python 2 and 3: In 2, map returns a list (so converting it to a list is redundant but harmless). In 3, map returns an iterator: An object you can repeatedly asked for its next value. (It saves memory by only running the function on the next thing in its input when asked for the result.) Converting it to a list forces it to run through everything immediately."
   ]
  },
  {
   "cell_type": "code",
   "execution_count": 55,
   "metadata": {},
   "outputs": [
    {
     "data": {
      "text/plain": [
       "[1, 2, 3, 4]"
      ]
     },
     "execution_count": 55,
     "metadata": {},
     "output_type": "execute_result"
    }
   ],
   "source": [
    "list=[1,2,3,4]\n",
    "list"
   ]
  },
  {
   "cell_type": "code",
   "execution_count": 2,
   "metadata": {},
   "outputs": [],
   "source": [
    "def mean(list):\n",
    "    x=0\n",
    "    for i in list:\n",
    "        x=x+i\n",
    "        mean=x/len(list)\n",
    "        return(mean)"
   ]
  },
  {
   "cell_type": "code",
   "execution_count": 3,
   "metadata": {},
   "outputs": [
    {
     "data": {
      "text/plain": [
       "0.25"
      ]
     },
     "execution_count": 3,
     "metadata": {},
     "output_type": "execute_result"
    }
   ],
   "source": [
    "mean(list)"
   ]
  },
  {
   "cell_type": "code",
   "execution_count": 52,
   "metadata": {},
   "outputs": [],
   "source": [
    "List=[2,3,4,5,6,7]"
   ]
  },
  {
   "cell_type": "code",
   "execution_count": 53,
   "metadata": {},
   "outputs": [],
   "source": [
    "def median(list):\n",
    "    median=0.0\n",
    "    N=len(list)\n",
    "    #z=list.sort()\n",
    "    if N%2==0:\n",
    "        median=(list[N//2]+list[(N//2+1)])//2\n",
    "    else:\n",
    "        median=list[N//2]\n",
    "    return(median)"
   ]
  },
  {
   "cell_type": "code",
   "execution_count": 54,
   "metadata": {},
   "outputs": [
    {
     "data": {
      "text/plain": [
       "5"
      ]
     },
     "execution_count": 54,
     "metadata": {},
     "output_type": "execute_result"
    }
   ],
   "source": [
    "median(List)"
   ]
  },
  {
   "cell_type": "code",
   "execution_count": null,
   "metadata": {},
   "outputs": [],
   "source": [
    "size = int(input())\n",
    "numbers = list(map(int, input().split()))\n",
    "weighted = list(map(int, input().split()))\n",
    "\n",
    "sum_items = 0\n",
    "for i in range(size):\n",
    "    sum_items = sum_items + (numbers[i] * weighted[i])\n",
    "\n",
    "print(round(sum_items/sum(weighted), 1))"
   ]
  },
  {
   "cell_type": "markdown",
   "metadata": {},
   "source": [
    "# Day-1/Quartile\n"
   ]
  },
  {
   "cell_type": "code",
   "execution_count": null,
   "metadata": {},
   "outputs": [],
   "source": [
    "# Define functions\n",
    "def median(size, values):\n",
    "    if size % 2 == 0:\n",
    "        median = (values[int(size/2)-1] + values[int(size/2)]) / 2\n",
    "    else:\n",
    "        median = values[int(size/2)]\n",
    "    return int(median)\n",
    "\n",
    "# Set the data\n",
    "size = int(input())\n",
    "numbers = sorted(list(map(int, input().split())))\n",
    "\n",
    "# Verify that the total data is even or odd\n",
    "if size % 2 == 0:\n",
    "    data_low = numbers[0:int(size/2)]\n",
    "    data_high = numbers[int(size/2):size]\n",
    "else:\n",
    "    data_low = numbers[0:int(size/2)]\n",
    "    data_high = numbers[int(size/2)+1:size]\n",
    "\n",
    "# Get the final result and print on the screen\n",
    "print (median(len(data_low), data_low))\n",
    "print (median(size, numbers))\n",
    "print (median(len(data_high), data_high))"
   ]
  }
 ],
 "metadata": {
  "kernelspec": {
   "display_name": "Python 3",
   "language": "python",
   "name": "python3"
  },
  "language_info": {
   "codemirror_mode": {
    "name": "ipython",
    "version": 3
   },
   "file_extension": ".py",
   "mimetype": "text/x-python",
   "name": "python",
   "nbconvert_exporter": "python",
   "pygments_lexer": "ipython3",
   "version": "3.7.3"
  }
 },
 "nbformat": 4,
 "nbformat_minor": 2
}
